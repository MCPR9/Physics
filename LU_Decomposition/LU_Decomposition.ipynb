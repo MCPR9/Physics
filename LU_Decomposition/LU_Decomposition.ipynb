{
 "cells": [
  {
   "cell_type": "code",
   "execution_count": 1,
   "metadata": {},
   "outputs": [],
   "source": [
    "import numpy as np"
   ]
  },
  {
   "cell_type": "markdown",
   "metadata": {},
   "source": [
    "## Initialization"
   ]
  },
  {
   "cell_type": "code",
   "execution_count": 2,
   "metadata": {},
   "outputs": [],
   "source": [
    "def matrix_ini():\n",
    "    m = int(input(\"Enter the number of rows:\")) \n",
    "    n = int(input(\"Enter the number of columns:\")) \n",
    "    \n",
    "    print(\"Enter the entries of matrix in single line, separated by space: \")\n",
    "    elements = list(map(float, input().split()))\n",
    "    matrix = np.array(elements).reshape(m, n) \n",
    "    print(matrix,'\\n') \n",
    "    \n",
    "    return matrix"
   ]
  },
  {
   "cell_type": "code",
   "execution_count": 3,
   "metadata": {},
   "outputs": [],
   "source": [
    "def m_mul(a,b):\n",
    "    mul = np.zeros((len(a[0]),len(b)))\n",
    "    for i in range(len(a)): \n",
    "        for j in range(len(b[0])): \n",
    "            for k in range(len(b)): \n",
    "                mul[i][j] += a[i][k] * b[k][j] \n",
    "    return mul"
   ]
  },
  {
   "cell_type": "code",
   "execution_count": 4,
   "metadata": {},
   "outputs": [],
   "source": [
    "def lu_decom(mat , n):\n",
    "    lower = [[0 for x in range(n)]for y in range(n)]\n",
    "    upper = [[0 for x in range(n)]for y in range(n)]\n",
    "    p = np.eye(n, dtype=np.double)\n",
    "    \n",
    "    for i in range(n):\n",
    " \n",
    "        # Upper Triangular\n",
    "        for k in range(i, n):\n",
    "            sum = 0\n",
    "            for j in range(i):\n",
    "                sum += (lower[i][j] * upper[j][k])\n",
    "            upper[i][k] = mat[i][k] - sum\n",
    " \n",
    "        # Lower Triangular\n",
    "        for k in range(i, n):\n",
    "            if (i == k):\n",
    "                lower[i][i] = 1  # Diagonal as 1\n",
    "            else:\n",
    "                sum = 0\n",
    "                for j in range(i):\n",
    "                    sum += (lower[k][j] * upper[j][i])\n",
    "                lower[k][i] = ((mat[k][i] - sum) /upper[i][i])\n",
    "        \n",
    "    lower = np.reshape(lower,(n,n))\n",
    "    upper = np.reshape(upper,(n,n))\n",
    "    p = np.reshape(p,(n,n))\n",
    "    \n",
    "    return lower, upper,p"
   ]
  },
  {
   "cell_type": "code",
   "execution_count": 5,
   "metadata": {},
   "outputs": [],
   "source": [
    "def forward_substitution(L, b):\n",
    "    \n",
    "    #Get number of rows\n",
    "    n = L.shape[0]\n",
    "    \n",
    "    #Allocating space for the solution vector\n",
    "    y = np.zeros_like(b, dtype=np.double);\n",
    "    \n",
    "    #Here we perform the forward-substitution.  \n",
    "    #Initializing  with the first row.\n",
    "    y[0] = b[0] / L[0, 0]\n",
    "    \n",
    "    #Looping over rows in reverse (from the bottom  up),\n",
    "    #starting with the second to last row, because  the \n",
    "    #last row solve was completed in the last step.\n",
    "    for i in range(1, n):\n",
    "        y[i] = (b[i] - np.dot(L[i,:i], y[:i])) / L[i,i]\n",
    "        \n",
    "    return y"
   ]
  },
  {
   "cell_type": "code",
   "execution_count": 6,
   "metadata": {},
   "outputs": [],
   "source": [
    "def back_substitution(U, y):\n",
    "    \n",
    "    #Number of rows\n",
    "    n = U.shape[0]\n",
    "    \n",
    "    #Allocating space for the solution vector\n",
    "    x = np.zeros_like(y, dtype=np.double);\n",
    "\n",
    "    #Here we perform the back-substitution.  \n",
    "    #Initializing with the last row.\n",
    "    x[-1] = y[-1] / U[-1, -1]\n",
    "    \n",
    "    #Looping over rows in reverse (from the bottom up), \n",
    "    #starting with the second to last row, because the \n",
    "    #last row solve was completed in the last step.\n",
    "    for i in range(n-2, -1, -1):\n",
    "        x[i] = (y[i] - np.dot(U[i,i:], x[i:])) / U[i,i]\n",
    "        \n",
    "    return x"
   ]
  },
  {
   "cell_type": "code",
   "execution_count": 7,
   "metadata": {},
   "outputs": [],
   "source": [
    "def plu_inverse(A):\n",
    "    n = A.shape[0]\n",
    "    \n",
    "    b = np.eye(n)\n",
    "    Ainv = np.zeros((n, n))\n",
    "    \n",
    "    L, U, P = lu_decom(A,n)\n",
    "    \n",
    "    for i in range(n):\n",
    "        \n",
    "        y = forward_substitution(L, np.dot(P, b[i, :]))\n",
    "        \n",
    "        Ainv[i, :] = back_substitution(U, y)\n",
    "        \n",
    "    return Ainv"
   ]
  },
  {
   "cell_type": "markdown",
   "metadata": {},
   "source": [
    "## Execution:"
   ]
  },
  {
   "cell_type": "code",
   "execution_count": 8,
   "metadata": {},
   "outputs": [
    {
     "name": "stdout",
     "output_type": "stream",
     "text": [
      "Enter the number of rows:3\n",
      "Enter the number of columns:3\n",
      "Enter the entries of matrix in single line, separated by space: \n",
      "15 -3 -1 -3 18 -6 -4 -1 12\n",
      "[[15. -3. -1.]\n",
      " [-3. 18. -6.]\n",
      " [-4. -1. 12.]] \n",
      "\n"
     ]
    }
   ],
   "source": [
    "mat = matrix_ini()"
   ]
  },
  {
   "cell_type": "code",
   "execution_count": 9,
   "metadata": {},
   "outputs": [],
   "source": [
    "L,U,P = lu_decom(mat,len(mat))"
   ]
  },
  {
   "cell_type": "code",
   "execution_count": 10,
   "metadata": {},
   "outputs": [],
   "source": [
    "mat_in_T = plu_inverse(mat)"
   ]
  },
  {
   "cell_type": "code",
   "execution_count": 11,
   "metadata": {},
   "outputs": [],
   "source": [
    "mat_in = np.zeros((len(mat),len(mat)))\n",
    "for i in range(len(mat)):\n",
    "   # iterate through columns\n",
    "   for j in range(len(mat[0])):\n",
    "        mat_in[j][i] = mat_in_T[i][j]"
   ]
  },
  {
   "cell_type": "code",
   "execution_count": 12,
   "metadata": {},
   "outputs": [
    {
     "name": "stdout",
     "output_type": "stream",
     "text": [
      "True\n"
     ]
    }
   ],
   "source": [
    "# Check:\n",
    "print(mat_in.all() == np.linalg.inv(mat).all())"
   ]
  },
  {
   "cell_type": "markdown",
   "metadata": {},
   "source": [
    "## Result:"
   ]
  },
  {
   "cell_type": "code",
   "execution_count": 13,
   "metadata": {},
   "outputs": [
    {
     "name": "stdout",
     "output_type": "stream",
     "text": [
      "Original matrix:\n",
      " [[15. -3. -1.]\n",
      " [-3. 18. -6.]\n",
      " [-4. -1. 12.]] \n",
      " Upper matrix:\n",
      " [[15.         -3.         -1.        ]\n",
      " [ 0.         17.4        -6.2       ]\n",
      " [ 0.          0.         11.09195402]] \n",
      " Lower matrix:\n",
      " [[ 1.          0.          0.        ]\n",
      " [-0.2         1.          0.        ]\n",
      " [-0.26666667 -0.10344828  1.        ]] \n",
      " Inverse matrix:\n",
      " [[0.07253886 0.01278066 0.01243523]\n",
      " [0.02072539 0.06079447 0.03212435]\n",
      " [0.02590674 0.00932642 0.09015544]]\n"
     ]
    }
   ],
   "source": [
    "print('Original matrix:\\n',mat,'\\n Upper matrix:\\n',U,'\\n Lower matrix:\\n', L , '\\n Inverse matrix:\\n', mat_in)"
   ]
  },
  {
   "cell_type": "code",
   "execution_count": null,
   "metadata": {},
   "outputs": [],
   "source": []
  }
 ],
 "metadata": {
  "kernelspec": {
   "display_name": "Python 3",
   "language": "python",
   "name": "python3"
  },
  "language_info": {
   "codemirror_mode": {
    "name": "ipython",
    "version": 3
   },
   "file_extension": ".py",
   "mimetype": "text/x-python",
   "name": "python",
   "nbconvert_exporter": "python",
   "pygments_lexer": "ipython3",
   "version": "3.7.3"
  }
 },
 "nbformat": 4,
 "nbformat_minor": 2
}
