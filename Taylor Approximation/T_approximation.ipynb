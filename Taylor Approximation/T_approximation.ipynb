{
 "cells": [
  {
   "cell_type": "code",
   "execution_count": 1,
   "metadata": {},
   "outputs": [],
   "source": [
    "from math import*"
   ]
  },
  {
   "cell_type": "markdown",
   "metadata": {},
   "source": [
    "**Inputs and Initialization:**"
   ]
  },
  {
   "cell_type": "code",
   "execution_count": 2,
   "metadata": {},
   "outputs": [
    {
     "name": "stdout",
     "output_type": "stream",
     "text": [
      "Input denominator for x:\n",
      "4\n",
      "Input denominator for h:\n",
      "12\n",
      "Input range:\n",
      "9\n"
     ]
    }
   ],
   "source": [
    "x_d = float(input('Input denominator for x:\\n'))\n",
    "h_d = float(input('Input denominator for h:\\n'))\n",
    "\n",
    "x = pi/x_d\n",
    "h = pi/h_d\n",
    "\n",
    "r = int(input('Input range:\\n'))"
   ]
  },
  {
   "cell_type": "code",
   "execution_count": 3,
   "metadata": {},
   "outputs": [],
   "source": [
    "a_value = cos(x+h)"
   ]
  },
  {
   "cell_type": "markdown",
   "metadata": {},
   "source": [
    "**Taylor approximation:**"
   ]
  },
  {
   "cell_type": "markdown",
   "metadata": {},
   "source": [
    "The expansion is calculated using:"
   ]
  },
  {
   "cell_type": "markdown",
   "metadata": {},
   "source": [
    "$$f(x+h) = f(x) + h f'(x)+ \\frac{h^2}{2!} f''(x)+ ....+\\frac{h^n}{n!}f^{n}(x)$$"
   ]
  },
  {
   "cell_type": "code",
   "execution_count": 4,
   "metadata": {},
   "outputs": [
    {
     "name": "stdout",
     "output_type": "stream",
     "text": [
      "n=0  err=0.2071067811865475\n",
      "n=1  err=0.0219866587632822\n",
      "n=2  err=0.0022455085965750\n",
      "n=3  err=0.0001308530699560\n",
      "n=4  err=0.0000075508106128\n",
      "n=5  err=0.0000003040003724\n",
      "n=6  err=0.0000000122013750\n",
      "n=7  err=0.0000000003754573\n",
      "n=8  err=0.0000000000115450\n",
      "n=9  err=0.0000000000002875\n"
     ]
    }
   ],
   "source": [
    "f = 0\n",
    "c = 1\n",
    "err = 0\n",
    "for i in range(r+1):\n",
    "    if(i%2 == 0):\n",
    "        f += c*((h**i)*cos(x))/factorial(i)\n",
    "        c *= -1\n",
    "    else:\n",
    "        f += c*((h**i)*sin(x))/factorial(i)\n",
    "    err = abs(a_value - f)\n",
    "    print(\"n={0:d}  err={1:0.016f}\".format(i, err))"
   ]
  },
  {
   "cell_type": "markdown",
   "metadata": {},
   "source": [
    "**Result:**"
   ]
  },
  {
   "cell_type": "code",
   "execution_count": 5,
   "metadata": {},
   "outputs": [
    {
     "name": "stdout",
     "output_type": "stream",
     "text": [
      "The deviation of approximation value with real value is: 2.8754776337791554e-13\n"
     ]
    }
   ],
   "source": [
    "print('The deviation of approximation value with real value is:',err)"
   ]
  }
 ],
 "metadata": {
  "kernelspec": {
   "display_name": "Python 3",
   "language": "python",
   "name": "python3"
  },
  "language_info": {
   "codemirror_mode": {
    "name": "ipython",
    "version": 3
   },
   "file_extension": ".py",
   "mimetype": "text/x-python",
   "name": "python",
   "nbconvert_exporter": "python",
   "pygments_lexer": "ipython3",
   "version": "3.7.3"
  }
 },
 "nbformat": 4,
 "nbformat_minor": 2
}
