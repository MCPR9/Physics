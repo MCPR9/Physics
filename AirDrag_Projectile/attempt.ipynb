{
 "cells": [
  {
   "cell_type": "code",
   "execution_count": 2,
   "metadata": {},
   "outputs": [
    {
     "name": "stdout",
     "output_type": "stream",
     "text": [
      "  message: 'A termination event occurred.'\n",
      "     nfev: 56\n",
      "     njev: 0\n",
      "      nlu: 0\n",
      "      sol: <scipy.integrate._ivp.common.OdeSolution object at 0x000002127D90D630>\n",
      "   status: 1\n",
      "  success: True\n",
      "        t: array([0.00000000e+00, 2.82832899e-05, 3.11116189e-04, 3.13944518e-03,\n",
      "       3.14227351e-02, 3.14255634e-01, 1.06058938e+00, 2.22188636e+00,\n",
      "       4.15895918e+00, 6.33623381e+00])\n",
      " t_events: [array([6.33623381]), array([2.7939952])]\n",
      "        y: array([[ 0.00000000e+00,  5.97646750e-04,  6.57356524e-03,\n",
      "         6.62779269e-02,  6.57916020e-01,  6.10052110e+00,\n",
      "         1.76432193e+01,  3.14572077e+01,  4.97860543e+01,\n",
      "         6.41157720e+01],\n",
      "       [ 2.11309131e+01,  2.11305601e+01,  2.11270311e+01,\n",
      "         2.10918152e+01,  2.07469548e+01,  1.79056176e+01,\n",
      "         1.35736705e+01,  1.06743281e+01,  8.24037743e+00,\n",
      "         4.93588825e+00],\n",
      "       [ 0.00000000e+00,  1.28165367e-03,  1.40965814e-02,\n",
      "         1.42085158e-01,  1.40609179e+00,  1.26238480e+01,\n",
      "         3.30428628e+01,  4.77695979e+01,  4.08233380e+01,\n",
      "         0.00000000e+00],\n",
      "       [ 4.53153894e+01,  4.53143549e+01,  4.53040126e+01,\n",
      "         4.52007742e+01,  4.41865291e+01,  3.55487022e+01,\n",
      "         2.04834916e+01,  5.84021051e+00, -1.21281464e+01,\n",
      "        -2.36334696e+01]])\n",
      "Time to target = 6.34 s\n",
      "Time to highest point = 2.79 s\n",
      "Range to target, xmax = 64.12 m\n",
      "Maximum height, zmax = 49.42 m\n"
     ]
    },
    {
     "data": {
      "image/png": "[encoded data removed]",
      "text/plain": [
       "<Figure size 432x288 with 1 Axes>"
      ]
     },
     "metadata": {
      "needs_background": "light"
     },
     "output_type": "display_data"
    }
   ],
   "source": [
    "import numpy as np\n",
    "from scipy.integrate import solve_ivp\n",
    "import matplotlib.pyplot as plt\n",
    "\n",
    "# Drag coefficient, projectile radius (m), area (m2) and mass (kg).\n",
    "c = 0.47\n",
    "r = 0.05\n",
    "A = np.pi * r**2\n",
    "m = 0.2\n",
    "# Air density (kg.m-3), acceleration due to gravity (m.s-2).\n",
    "rho_air = 1.28\n",
    "g = 9.81\n",
    "# For convenience, define  this constant.\n",
    "k = 0.5 * c * rho_air * A\n",
    "\n",
    "# Initial speed and launch angle (from the horizontal).\n",
    "v0 = 50\n",
    "phi0 = np.radians(65)\n",
    "\n",
    "def deriv(t, u):\n",
    "    x, xdot, z, zdot = u\n",
    "    speed = np.hypot(xdot, zdot)\n",
    "    xdotdot = -k/m * speed * xdot\n",
    "    zdotdot = -k/m * speed * zdot - g\n",
    "    return xdot, xdotdot, zdot, zdotdot\n",
    "\n",
    "# Initial conditions: x0, v0_x, z0, v0_z.\n",
    "u0 = 0, v0 * np.cos(phi0), 0., v0 * np.sin(phi0)\n",
    "# Integrate up to tf unless we hit the target sooner.\n",
    "t0, tf = 0, 50\n",
    "\n",
    "def hit_target(t, u):\n",
    "    # We've hit the target if the z-coordinate is 0.\n",
    "    return u[2]\n",
    "# Stop the integration when we hit the target.\n",
    "hit_target.terminal = True\n",
    "# We must be moving downwards (don't stop before we begin moving upwards!)\n",
    "hit_target.direction = -1\n",
    "\n",
    "def max_height(t, u):\n",
    "    # The maximum height is obtained when the z-velocity is zero.\n",
    "    return u[3]\n",
    "\n",
    "soln = solve_ivp(deriv, (t0, tf), u0, dense_output=True,\n",
    "                 events=(hit_target, max_height))\n",
    "print(soln)\n",
    "print('Time to target = {:.2f} s'.format(soln.t_events[0][0]))\n",
    "print('Time to highest point = {:.2f} s'.format(soln.t_events[1][0]))\n",
    "\n",
    "# A fine grid of time points from 0 until impact time.\n",
    "t = np.linspace(0, soln.t_events[0][0], 100)\n",
    "\n",
    "# Retrieve the solution for the time grid and plot the trajectory.\n",
    "sol = soln.sol(t)\n",
    "x, z = sol[0], sol[2]\n",
    "print('Range to target, xmax = {:.2f} m'.format(x[-1]))\n",
    "print('Maximum height, zmax = {:.2f} m'.format(max(z)))\n",
    "plt.plot(x, z)\n",
    "plt.xlabel('x /m')\n",
    "plt.ylabel('z /m')\n",
    "plt.show()"
   ]
  },
  {
   "cell_type": "code",
   "execution_count": null,
   "metadata": {},
   "outputs": [],
   "source": []
  }
 ],
 "metadata": {
  "kernelspec": {
   "display_name": "Python 3",
   "language": "python",
   "name": "python3"
  },
  "language_info": {
   "codemirror_mode": {
    "name": "ipython",
    "version": 3
   },
   "file_extension": ".py",
   "mimetype": "text/x-python",
   "name": "python",
   "nbconvert_exporter": "python",
   "pygments_lexer": "ipython3",
   "version": "3.7.3"
  }
 },
 "nbformat": 4,
 "nbformat_minor": 2
}
