{
 "cells": [
  {
   "cell_type": "markdown",
   "metadata": {},
   "source": [
    "# Maclaurin Approximation"
   ]
  },
  {
   "cell_type": "markdown",
   "metadata": {},
   "source": [
    "### Import and Initialization:"
   ]
  },
  {
   "cell_type": "code",
   "execution_count": 1,
   "metadata": {},
   "outputs": [],
   "source": [
    "from math import*"
   ]
  },
  {
   "cell_type": "code",
   "execution_count": 2,
   "metadata": {},
   "outputs": [
    {
     "name": "stdout",
     "output_type": "stream",
     "text": [
      "Input coefficient for pi:\n",
      "0.3\n",
      "Input significant digit:\n",
      "8\n"
     ]
    }
   ],
   "source": [
    "x = float(input('Input coefficient for pi:\\n'))\n",
    "sd = int(input('Input significant digit:\\n'))\n",
    "x = x * pi"
   ]
  },
  {
   "cell_type": "code",
   "execution_count": 3,
   "metadata": {},
   "outputs": [],
   "source": [
    "es = 0.5*10**(2-sd)\n",
    "a_value = cos(x)"
   ]
  },
  {
   "cell_type": "code",
   "execution_count": 4,
   "metadata": {},
   "outputs": [],
   "source": [
    "def maclaurin_approx(x, n):\n",
    "    sum = 0\n",
    "    for i in range(n):\n",
    "        sum +=(-1)**i * x**(2*i)/factorial(2*i)\n",
    "    return sum"
   ]
  },
  {
   "cell_type": "markdown",
   "metadata": {},
   "source": [
    "### Running and output:"
   ]
  },
  {
   "cell_type": "code",
   "execution_count": 5,
   "metadata": {},
   "outputs": [],
   "source": [
    "for i in range(20):\n",
    "    c_val = maclaurin_approx(x,i)\n",
    "    ea = abs(c_val-a_value)/a_value\n",
    "    term = i+1\n",
    "    if ea < es:\n",
    "        break"
   ]
  },
  {
   "cell_type": "code",
   "execution_count": 6,
   "metadata": {},
   "outputs": [
    {
     "name": "stdout",
     "output_type": "stream",
     "text": [
      "The number of terms required to approximate cos(x) to 8 significant figures using the Maclaurin series approximation is: 6\n"
     ]
    }
   ],
   "source": [
    "print('The number of terms required to approximate cos(x) to',sd,'significant figures using the Maclaurin series approximation is:',term)"
   ]
  }
 ],
 "metadata": {
  "kernelspec": {
   "display_name": "Python 3",
   "language": "python",
   "name": "python3"
  },
  "language_info": {
   "codemirror_mode": {
    "name": "ipython",
    "version": 3
   },
   "file_extension": ".py",
   "mimetype": "text/x-python",
   "name": "python",
   "nbconvert_exporter": "python",
   "pygments_lexer": "ipython3",
   "version": "3.7.3"
  }
 },
 "nbformat": 4,
 "nbformat_minor": 2
}
